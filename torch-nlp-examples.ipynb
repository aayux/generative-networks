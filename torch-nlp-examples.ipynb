{
 "metadata": {
  "name": "",
  "signature": "sha256:c87453ed8ae2eda38312cc73cf94d45cafb6639a1cf82708c5af9facab9e2747"
 },
 "nbformat": 3,
 "nbformat_minor": 0,
 "worksheets": [
  {
   "cells": [
    {
     "cell_type": "markdown",
     "metadata": {},
     "source": [
      "## [Torch NLP Examples](http://pytorch.org/tutorials/beginner/nlp/sequence_models_tutorial.html)\n",
      "\n",
      "- This project is a WIP. \n",
      "- Currently this notebook is meant as a tutorial. \n",
      "- In the future, all changes will be tested and applied here as they happen."
     ]
    },
    {
     "cell_type": "code",
     "collapsed": false,
     "input": [
      "import torch\n",
      "import torch.autograd as autograd\n",
      "import torch.nn as nn\n",
      "import torch.nn.functional as F\n",
      "import torch.optim as optim\n",
      "\n",
      "torch.manual_seed(1)"
     ],
     "language": "python",
     "metadata": {},
     "outputs": [
      {
       "metadata": {},
       "output_type": "pyout",
       "prompt_number": 24,
       "text": [
        "<torch._C.Generator at 0x7fd7c46ddaf8>"
       ]
      }
     ],
     "prompt_number": 24
    },
    {
     "cell_type": "markdown",
     "metadata": {},
     "source": [
      "### N-Gram Language Modeling with Word Embeddings"
     ]
    },
    {
     "cell_type": "code",
     "collapsed": false,
     "input": [
      "# Author: Robert Guthrie\n",
      "\n",
      "CONTEXT_SIZE = 2\n",
      "EMBEDDING_DIM = 10\n",
      "# We will use Shakespeare Sonnet 2\n",
      "test_sentence = \"\"\"When forty winters shall besiege thy brow,\n",
      "And dig deep trenches in thy beauty's field,\n",
      "Thy youth's proud livery so gazed on now,\n",
      "Will be a totter'd weed of small worth held:\n",
      "Then being asked, where all thy beauty lies,\n",
      "Where all the treasure of thy lusty days;\n",
      "To say, within thine own deep sunken eyes,\n",
      "Were an all-eating shame, and thriftless praise.\n",
      "How much more praise deserv'd thy beauty's use,\n",
      "If thou couldst answer 'This fair child of mine\n",
      "Shall sum my count, and make my old excuse,'\n",
      "Proving his beauty by succession thine!\n",
      "This were to be new made when thou art old,\n",
      "And see thy blood warm when thou feel'st it cold.\"\"\".split()\n",
      "# we should tokenize the input, but we will ignore that for now\n",
      "# build a list of tuples.  Each tuple is ([ word_i-2, word_i-1 ], target word)\n",
      "trigrams = [([test_sentence[i], test_sentence[i + 1]], test_sentence[i + 2])\n",
      "            for i in range(len(test_sentence) - 2)]\n",
      "# print the first 3, just so you can see what they look like\n",
      "print(trigrams[:3])\n",
      "\n",
      "vocab = set(test_sentence)\n",
      "word_to_ix = {word: i for i, word in enumerate(vocab)}"
     ],
     "language": "python",
     "metadata": {},
     "outputs": [
      {
       "output_type": "stream",
       "stream": "stdout",
       "text": [
        "[(['When', 'forty'], 'winters'), (['forty', 'winters'], 'shall'), (['winters', 'shall'], 'besiege')]\n"
       ]
      }
     ],
     "prompt_number": 25
    },
    {
     "cell_type": "code",
     "collapsed": false,
     "input": [
      "class NGramLanguageModeler(nn.Module):\n",
      "\n",
      "    def __init__(self, vocab_size, embedding_dim, context_size):\n",
      "        super(NGramLanguageModeler, self).__init__()\n",
      "        self.embeddings = nn.Embedding(vocab_size, embedding_dim)\n",
      "        self.linear1 = nn.Linear(context_size * embedding_dim, 128)\n",
      "        self.linear2 = nn.Linear(128, vocab_size)\n",
      "\n",
      "    def forward(self, inputs):\n",
      "        embeds = self.embeddings(inputs).view((1, -1))\n",
      "        out = F.relu(self.linear1(embeds))\n",
      "        out = self.linear2(out)\n",
      "        log_probs = F.log_softmax(out)\n",
      "        return log_probs"
     ],
     "language": "python",
     "metadata": {},
     "outputs": [],
     "prompt_number": 26
    },
    {
     "cell_type": "code",
     "collapsed": false,
     "input": [
      "losses = []\n",
      "loss_function = nn.NLLLoss()\n",
      "model = NGramLanguageModeler(len(vocab), EMBEDDING_DIM, CONTEXT_SIZE)\n",
      "optimizer = optim.SGD(model.parameters(), lr=0.001)\n",
      "\n",
      "for epoch in range(10):\n",
      "    total_loss = torch.Tensor([0])\n",
      "    for context, target in trigrams:\n",
      "\n",
      "        # Step 1. Prepare the inputs to be passed to the model (i.e, turn the words\n",
      "        # into integer indices and wrap them in variables)\n",
      "        context_idxs = [word_to_ix[w] for w in context]\n",
      "        context_var = autograd.Variable(torch.LongTensor(context_idxs))\n",
      "\n",
      "        # Step 2. Recall that torch *accumulates* gradients. Before passing in a\n",
      "        # new instance, you need to zero out the gradients from the old\n",
      "        # instance\n",
      "        model.zero_grad()\n",
      "\n",
      "        # Step 3. Run the forward pass, getting log probabilities over next\n",
      "        # words\n",
      "        log_probs = model(context_var)\n",
      "\n",
      "        # Step 4. Compute your loss function. (Again, Torch wants the target\n",
      "        # word wrapped in a variable)\n",
      "        loss = loss_function(log_probs, autograd.Variable(\n",
      "            torch.LongTensor([word_to_ix[target]])))\n",
      "\n",
      "        # Step 5. Do the backward pass and update the gradient\n",
      "        loss.backward()\n",
      "        optimizer.step()\n",
      "\n",
      "        total_loss += loss.data\n",
      "    losses.append(total_loss)"
     ],
     "language": "python",
     "metadata": {},
     "outputs": [],
     "prompt_number": 57
    },
    {
     "cell_type": "code",
     "collapsed": false,
     "input": [
      "losses = [loss[0] for loss in losses]"
     ],
     "language": "python",
     "metadata": {},
     "outputs": [],
     "prompt_number": 58
    },
    {
     "cell_type": "code",
     "collapsed": false,
     "input": [
      "import matplotlib.pyplot as plt\n",
      "%matplotlib inline\n",
      "\n",
      "plt.plot(losses)\n",
      "plt.ylabel('loss')\n",
      "plt.show()"
     ],
     "language": "python",
     "metadata": {},
     "outputs": [
      {
       "metadata": {},
       "output_type": "display_data",
       "png": "[encoded data removed]",
       "text": [
        "<matplotlib.figure.Figure at 0x7fd75ed95fd0>"
       ]
      }
     ],
     "prompt_number": 59
    },
    {
     "cell_type": "markdown",
     "metadata": {},
     "source": [
      "### LSTM Example with PoS Tagging"
     ]
    },
    {
     "cell_type": "code",
     "collapsed": false,
     "input": [
      "# Author: Robert Guthrie\n",
      "# Prepare data\n",
      "def prepare_sequence(seq, to_ix):\n",
      "    idxs = [to_ix[w] for w in seq]\n",
      "    tensor = torch.LongTensor(idxs)\n",
      "    return autograd.Variable(tensor)\n",
      "\n",
      "\n",
      "training_data = [\n",
      "    (\"the dog ate the apple\".split(), [\"DET\", \"NN\", \"V\", \"DET\", \"NN\"]),\n",
      "    (\"everybody read that book\".split(), [\"NN\", \"V\", \"DET\", \"NN\"])\n",
      "]\n",
      "word_to_ix = {}\n",
      "for sent, tags in training_data:\n",
      "    for word in sent:\n",
      "        if word not in word_to_ix:\n",
      "            word_to_ix[word] = len(word_to_ix)\n",
      "print(word_to_ix)\n",
      "tag_to_ix = {\"DET\": 0, \"NN\": 1, \"V\": 2}\n",
      "\n",
      "# These will usually be more like 32 or 64 dimensional.\n",
      "# We will keep them small, so we can see how the weights change as we train.\n",
      "EMBEDDING_DIM = 6\n",
      "HIDDEN_DIM = 6"
     ],
     "language": "python",
     "metadata": {},
     "outputs": [
      {
       "output_type": "stream",
       "stream": "stdout",
       "text": [
        "{'everybody': 4, 'ate': 2, 'apple': 3, 'that': 6, 'read': 5, 'dog': 1, 'book': 7, 'the': 0}\n"
       ]
      }
     ],
     "prompt_number": 61
    },
    {
     "cell_type": "code",
     "collapsed": false,
     "input": [
      "class LSTMTagger(nn.Module):\n",
      "\n",
      "    def __init__(self, embedding_dim, hidden_dim, vocab_size, tagset_size):\n",
      "        super(LSTMTagger, self).__init__()\n",
      "        self.hidden_dim = hidden_dim\n",
      "\n",
      "        self.word_embeddings = nn.Embedding(vocab_size, embedding_dim)\n",
      "\n",
      "        # The LSTM takes word embeddings as inputs, and outputs hidden states\n",
      "        # with dimensionality hidden_dim.\n",
      "        self.lstm = nn.LSTM(embedding_dim, hidden_dim)\n",
      "\n",
      "        # The linear layer that maps from hidden state space to tag space\n",
      "        self.hidden2tag = nn.Linear(hidden_dim, tagset_size)\n",
      "        self.hidden = self.init_hidden()\n",
      "\n",
      "    def init_hidden(self):\n",
      "        # Before we've done anything, we dont have any hidden state.\n",
      "        # Refer to the Pytorch documentation to see exactly\n",
      "        # why they have this dimensionality.\n",
      "        # The axes semantics are (num_layers, minibatch_size, hidden_dim)\n",
      "        return (autograd.Variable(torch.zeros(1, 1, self.hidden_dim)),\n",
      "                autograd.Variable(torch.zeros(1, 1, self.hidden_dim)))\n",
      "\n",
      "    def forward(self, sentence):\n",
      "        embeds = self.word_embeddings(sentence)\n",
      "        lstm_out, self.hidden = self.lstm(\n",
      "            embeds.view(len(sentence), 1, -1), self.hidden)\n",
      "        tag_space = self.hidden2tag(lstm_out.view(len(sentence), -1))\n",
      "        tag_scores = F.log_softmax(tag_space)\n",
      "        return tag_scores"
     ],
     "language": "python",
     "metadata": {},
     "outputs": [],
     "prompt_number": 62
    },
    {
     "cell_type": "code",
     "collapsed": false,
     "input": [
      "model = LSTMTagger(EMBEDDING_DIM, HIDDEN_DIM, len(word_to_ix), len(tag_to_ix))\n",
      "loss_function = nn.NLLLoss()\n",
      "optimizer = optim.SGD(model.parameters(), lr=0.1)\n",
      "\n",
      "# See what the scores are before training\n",
      "# Note that element i,j of the output is the score for tag j for word i.\n",
      "inputs = prepare_sequence(training_data[0][0], word_to_ix)\n",
      "tag_scores = model(inputs)\n",
      "print(tag_scores)\n",
      "\n",
      "plt_losses = []\n",
      "for epoch in range(300):  # again, normally you would NOT do 300 epochs, it is toy data\n",
      "    for sentence, tags in training_data:\n",
      "        # Step 1. Remember that Pytorch accumulates gradients.\n",
      "        # We need to clear them out before each instance\n",
      "        model.zero_grad()\n",
      "\n",
      "        # Also, we need to clear out the hidden state of the LSTM,\n",
      "        # detaching it from its history on the last instance.\n",
      "        model.hidden = model.init_hidden()\n",
      "\n",
      "        # Step 2. Get our inputs ready for the network, that is, turn them into\n",
      "        # Variables of word indices.\n",
      "        sentence_in = prepare_sequence(sentence, word_to_ix)\n",
      "        targets = prepare_sequence(tags, tag_to_ix)\n",
      "\n",
      "        # Step 3. Run our forward pass.\n",
      "        tag_scores = model(sentence_in)\n",
      "\n",
      "        # Step 4. Compute the loss, gradients, and update the parameters by\n",
      "        #  calling optimizer.step()\n",
      "        loss = loss_function(tag_scores, targets)\n",
      "        loss.backward()\n",
      "        optimizer.step()\n",
      "        plt_losses.append(loss.data[0])\n"
     ],
     "language": "python",
     "metadata": {},
     "outputs": [
      {
       "output_type": "stream",
       "stream": "stdout",
       "text": [
        "Variable containing:\n",
        "-1.2109 -1.3375 -0.8220\n",
        "-1.3607 -1.2106 -0.8086\n",
        "-1.3474 -1.1975 -0.8252\n",
        "-1.2029 -1.3527 -0.8184\n",
        "-1.2666 -1.2354 -0.8498\n",
        "[torch.FloatTensor of size 5x3]\n",
        "\n"
       ]
      }
     ],
     "prompt_number": 64
    },
    {
     "cell_type": "code",
     "collapsed": false,
     "input": [
      "plt.plot(plt_losses)\n",
      "plt.ylabel('loss')\n",
      "plt.show()"
     ],
     "language": "python",
     "metadata": {},
     "outputs": [
      {
       "metadata": {},
       "output_type": "display_data",
       "png": "[encoded data removed]",
       "text": [
        "<matplotlib.figure.Figure at 0x7fd761fd5fd0>"
       ]
      }
     ],
     "prompt_number": 65
    },
    {
     "cell_type": "code",
     "collapsed": false,
     "input": [
      "# See what the scores are after training\n",
      "inputs = prepare_sequence(training_data[0][0], word_to_ix)\n",
      "tag_scores = model(inputs)\n",
      "# The sentence is \"the dog ate the apple\".  i,j corresponds to score for tag j\n",
      "#  for word i. The predicted tag is the maximum scoring tag.\n",
      "# Here, we can see the predicted sequence below is 0 1 2 0 1\n",
      "# since 0 is index of the maximum value of row 1,\n",
      "# 1 is the index of maximum value of row 2, etc.\n",
      "# Which is DET NOUN VERB DET NOUN, the correct sequence!\n",
      "print(tag_scores)"
     ],
     "language": "python",
     "metadata": {},
     "outputs": [
      {
       "output_type": "stream",
       "stream": "stdout",
       "text": [
        "Variable containing:\n",
        "-0.0241 -4.0656 -5.0128\n",
        "-5.6893 -0.0257 -3.8164\n",
        "-3.6358 -3.5226 -0.0575\n",
        "-0.0189 -4.6040 -4.7485\n",
        "-5.3430 -0.0086 -5.5786\n",
        "[torch.FloatTensor of size 5x3]\n",
        "\n"
       ]
      }
     ],
     "prompt_number": 66
    },
    {
     "cell_type": "code",
     "collapsed": false,
     "input": [],
     "language": "python",
     "metadata": {},
     "outputs": []
    }
   ],
   "metadata": {}
  }
 ]
}