{
 "metadata": {
  "name": "",
  "signature": "sha256:f3a3b67fa816eb6d2454c3059d84c4f6654fe7766df821e8136b68af04e66083"
 },
 "nbformat": 3,
 "nbformat_minor": 0,
 "worksheets": []
}